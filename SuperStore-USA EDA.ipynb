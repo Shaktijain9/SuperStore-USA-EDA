{
 "cells": [
  {
   "cell_type": "code",
   "execution_count": 42,
   "id": "8d6d55e8",
   "metadata": {},
   "outputs": [],
   "source": [
    "import pandas as pd\n",
    "import numpy as np\n",
    "import datetime"
   ]
  },
  {
   "cell_type": "markdown",
   "id": "c4d4fbc6",
   "metadata": {},
   "source": [
    "### 1) Load this data in pandas "
   ]
  },
  {
   "cell_type": "code",
   "execution_count": 4,
   "id": "bbebbe35",
   "metadata": {},
   "outputs": [],
   "source": [
    "orders = pd.read_excel(r'E:\\UserData\\z0045tad\\Documents\\LeetC\\iNeuron\\Pandas\\dataset\\Superstore_USA.xlsx')\n",
    "returns = pd.read_excel(r'E:\\UserData\\z0045tad\\Documents\\LeetC\\iNeuron\\Pandas\\dataset\\Superstore_USA.xlsx', sheet_name='Returns')\n",
    "users = pd.read_excel(r'E:\\UserData\\z0045tad\\Documents\\LeetC\\iNeuron\\Pandas\\dataset\\Superstore_USA.xlsx', sheet_name='Users')"
   ]
  },
  {
   "cell_type": "markdown",
   "id": "d6939cd5",
   "metadata": {},
   "source": [
    "### 3) Find out how many returns that we have recived and with a product id. "
   ]
  },
  {
   "cell_type": "code",
   "execution_count": 16,
   "id": "2686d23d",
   "metadata": {},
   "outputs": [
    {
     "data": {
      "text/plain": [
       "1634"
      ]
     },
     "execution_count": 16,
     "metadata": {},
     "output_type": "execute_result"
    }
   ],
   "source": [
    "returns['Order ID'].unique().size"
   ]
  },
  {
   "cell_type": "code",
   "execution_count": 17,
   "id": "6801d58b",
   "metadata": {},
   "outputs": [
    {
     "data": {
      "text/plain": [
       "0           65\n",
       "1          612\n",
       "2          614\n",
       "3          678\n",
       "4          710\n",
       "         ...  \n",
       "1629    182681\n",
       "1630    182683\n",
       "1631    182750\n",
       "1632    182781\n",
       "1633    182906\n",
       "Name: Order ID, Length: 1634, dtype: int64"
      ]
     },
     "execution_count": 17,
     "metadata": {},
     "output_type": "execute_result"
    }
   ],
   "source": [
    "returns['Order ID']"
   ]
  },
  {
   "cell_type": "markdown",
   "id": "fe0de14d",
   "metadata": {},
   "source": [
    "###  4) try  to join order and return data in pandas "
   ]
  },
  {
   "cell_type": "code",
   "execution_count": 19,
   "id": "98cb0a62",
   "metadata": {},
   "outputs": [
    {
     "data": {
      "text/html": [
       "<div>\n",
       "<style scoped>\n",
       "    .dataframe tbody tr th:only-of-type {\n",
       "        vertical-align: middle;\n",
       "    }\n",
       "\n",
       "    .dataframe tbody tr th {\n",
       "        vertical-align: top;\n",
       "    }\n",
       "\n",
       "    .dataframe thead th {\n",
       "        text-align: right;\n",
       "    }\n",
       "</style>\n",
       "<table border=\"1\" class=\"dataframe\">\n",
       "  <thead>\n",
       "    <tr style=\"text-align: right;\">\n",
       "      <th></th>\n",
       "      <th>Row ID</th>\n",
       "      <th>Order Priority</th>\n",
       "      <th>Discount</th>\n",
       "      <th>Unit Price</th>\n",
       "      <th>Shipping Cost</th>\n",
       "      <th>Customer ID</th>\n",
       "      <th>Customer Name</th>\n",
       "      <th>Ship Mode</th>\n",
       "      <th>Customer Segment</th>\n",
       "      <th>Product Category</th>\n",
       "      <th>...</th>\n",
       "      <th>State or Province</th>\n",
       "      <th>City</th>\n",
       "      <th>Postal Code</th>\n",
       "      <th>Order Date</th>\n",
       "      <th>Ship Date</th>\n",
       "      <th>Profit</th>\n",
       "      <th>Quantity ordered new</th>\n",
       "      <th>Sales</th>\n",
       "      <th>Order ID</th>\n",
       "      <th>Status</th>\n",
       "    </tr>\n",
       "  </thead>\n",
       "  <tbody>\n",
       "    <tr>\n",
       "      <th>0</th>\n",
       "      <td>1359</td>\n",
       "      <td>Low</td>\n",
       "      <td>0.05</td>\n",
       "      <td>5.85</td>\n",
       "      <td>2.27</td>\n",
       "      <td>21</td>\n",
       "      <td>Tony Wilkins Winters</td>\n",
       "      <td>Regular Air</td>\n",
       "      <td>Small Business</td>\n",
       "      <td>Office Supplies</td>\n",
       "      <td>...</td>\n",
       "      <td>New York</td>\n",
       "      <td>New York City</td>\n",
       "      <td>10012</td>\n",
       "      <td>2011-04-20</td>\n",
       "      <td>2011-04-24</td>\n",
       "      <td>-6.8200</td>\n",
       "      <td>9</td>\n",
       "      <td>54.79</td>\n",
       "      <td>9895</td>\n",
       "      <td>Returned</td>\n",
       "    </tr>\n",
       "    <tr>\n",
       "      <th>1</th>\n",
       "      <td>1950</td>\n",
       "      <td>Medium</td>\n",
       "      <td>0.01</td>\n",
       "      <td>4.91</td>\n",
       "      <td>0.50</td>\n",
       "      <td>117</td>\n",
       "      <td>Linda Weiss</td>\n",
       "      <td>Regular Air</td>\n",
       "      <td>Home Office</td>\n",
       "      <td>Office Supplies</td>\n",
       "      <td>...</td>\n",
       "      <td>Washington</td>\n",
       "      <td>Seattle</td>\n",
       "      <td>98103</td>\n",
       "      <td>2010-04-04</td>\n",
       "      <td>2010-04-06</td>\n",
       "      <td>112.0600</td>\n",
       "      <td>47</td>\n",
       "      <td>228.46</td>\n",
       "      <td>13959</td>\n",
       "      <td>Returned</td>\n",
       "    </tr>\n",
       "    <tr>\n",
       "      <th>2</th>\n",
       "      <td>1951</td>\n",
       "      <td>Medium</td>\n",
       "      <td>0.09</td>\n",
       "      <td>4.00</td>\n",
       "      <td>1.30</td>\n",
       "      <td>117</td>\n",
       "      <td>Linda Weiss</td>\n",
       "      <td>Express Air</td>\n",
       "      <td>Home Office</td>\n",
       "      <td>Office Supplies</td>\n",
       "      <td>...</td>\n",
       "      <td>Washington</td>\n",
       "      <td>Seattle</td>\n",
       "      <td>98103</td>\n",
       "      <td>2010-04-04</td>\n",
       "      <td>2010-04-06</td>\n",
       "      <td>16.7900</td>\n",
       "      <td>19</td>\n",
       "      <td>77.61</td>\n",
       "      <td>13959</td>\n",
       "      <td>Returned</td>\n",
       "    </tr>\n",
       "    <tr>\n",
       "      <th>3</th>\n",
       "      <td>5055</td>\n",
       "      <td>High</td>\n",
       "      <td>0.02</td>\n",
       "      <td>3.28</td>\n",
       "      <td>5.00</td>\n",
       "      <td>117</td>\n",
       "      <td>Linda Weiss</td>\n",
       "      <td>Regular Air</td>\n",
       "      <td>Home Office</td>\n",
       "      <td>Office Supplies</td>\n",
       "      <td>...</td>\n",
       "      <td>Washington</td>\n",
       "      <td>Seattle</td>\n",
       "      <td>98103</td>\n",
       "      <td>2013-08-16</td>\n",
       "      <td>2013-08-18</td>\n",
       "      <td>-89.0600</td>\n",
       "      <td>52</td>\n",
       "      <td>190.52</td>\n",
       "      <td>36038</td>\n",
       "      <td>Returned</td>\n",
       "    </tr>\n",
       "    <tr>\n",
       "      <th>4</th>\n",
       "      <td>5573</td>\n",
       "      <td>Low</td>\n",
       "      <td>0.02</td>\n",
       "      <td>11.97</td>\n",
       "      <td>5.81</td>\n",
       "      <td>272</td>\n",
       "      <td>Eleanor Swain</td>\n",
       "      <td>Regular Air</td>\n",
       "      <td>Small Business</td>\n",
       "      <td>Office Supplies</td>\n",
       "      <td>...</td>\n",
       "      <td>North Carolina</td>\n",
       "      <td>Charlotte</td>\n",
       "      <td>28204</td>\n",
       "      <td>2013-08-12</td>\n",
       "      <td>2013-08-12</td>\n",
       "      <td>-81.9413</td>\n",
       "      <td>76</td>\n",
       "      <td>912.06</td>\n",
       "      <td>39490</td>\n",
       "      <td>Returned</td>\n",
       "    </tr>\n",
       "    <tr>\n",
       "      <th>...</th>\n",
       "      <td>...</td>\n",
       "      <td>...</td>\n",
       "      <td>...</td>\n",
       "      <td>...</td>\n",
       "      <td>...</td>\n",
       "      <td>...</td>\n",
       "      <td>...</td>\n",
       "      <td>...</td>\n",
       "      <td>...</td>\n",
       "      <td>...</td>\n",
       "      <td>...</td>\n",
       "      <td>...</td>\n",
       "      <td>...</td>\n",
       "      <td>...</td>\n",
       "      <td>...</td>\n",
       "      <td>...</td>\n",
       "      <td>...</td>\n",
       "      <td>...</td>\n",
       "      <td>...</td>\n",
       "      <td>...</td>\n",
       "      <td>...</td>\n",
       "    </tr>\n",
       "    <tr>\n",
       "      <th>93</th>\n",
       "      <td>986</td>\n",
       "      <td>Not Specified</td>\n",
       "      <td>0.06</td>\n",
       "      <td>37.94</td>\n",
       "      <td>5.08</td>\n",
       "      <td>3075</td>\n",
       "      <td>Gordon Brandt</td>\n",
       "      <td>Regular Air</td>\n",
       "      <td>Corporate</td>\n",
       "      <td>Office Supplies</td>\n",
       "      <td>...</td>\n",
       "      <td>California</td>\n",
       "      <td>Los Angeles</td>\n",
       "      <td>90061</td>\n",
       "      <td>2013-01-04</td>\n",
       "      <td>2013-01-06</td>\n",
       "      <td>-33.9680</td>\n",
       "      <td>3</td>\n",
       "      <td>113.14</td>\n",
       "      <td>7107</td>\n",
       "      <td>Returned</td>\n",
       "    </tr>\n",
       "    <tr>\n",
       "      <th>94</th>\n",
       "      <td>987</td>\n",
       "      <td>Not Specified</td>\n",
       "      <td>0.10</td>\n",
       "      <td>55.29</td>\n",
       "      <td>5.08</td>\n",
       "      <td>3075</td>\n",
       "      <td>Gordon Brandt</td>\n",
       "      <td>Regular Air</td>\n",
       "      <td>Corporate</td>\n",
       "      <td>Office Supplies</td>\n",
       "      <td>...</td>\n",
       "      <td>California</td>\n",
       "      <td>Los Angeles</td>\n",
       "      <td>90061</td>\n",
       "      <td>2013-01-04</td>\n",
       "      <td>2013-01-05</td>\n",
       "      <td>163.1200</td>\n",
       "      <td>35</td>\n",
       "      <td>1886.52</td>\n",
       "      <td>7107</td>\n",
       "      <td>Returned</td>\n",
       "    </tr>\n",
       "    <tr>\n",
       "      <th>95</th>\n",
       "      <td>6041</td>\n",
       "      <td>Medium</td>\n",
       "      <td>0.05</td>\n",
       "      <td>4.28</td>\n",
       "      <td>6.18</td>\n",
       "      <td>3075</td>\n",
       "      <td>Gordon Brandt</td>\n",
       "      <td>Express Air</td>\n",
       "      <td>Corporate</td>\n",
       "      <td>Office Supplies</td>\n",
       "      <td>...</td>\n",
       "      <td>California</td>\n",
       "      <td>Los Angeles</td>\n",
       "      <td>90061</td>\n",
       "      <td>2013-06-25</td>\n",
       "      <td>2013-06-27</td>\n",
       "      <td>-22.5600</td>\n",
       "      <td>12</td>\n",
       "      <td>73.71</td>\n",
       "      <td>42823</td>\n",
       "      <td>Returned</td>\n",
       "    </tr>\n",
       "    <tr>\n",
       "      <th>96</th>\n",
       "      <td>1910</td>\n",
       "      <td>High</td>\n",
       "      <td>0.05</td>\n",
       "      <td>14.48</td>\n",
       "      <td>1.99</td>\n",
       "      <td>3079</td>\n",
       "      <td>Andrew Levine</td>\n",
       "      <td>Regular Air</td>\n",
       "      <td>Consumer</td>\n",
       "      <td>Technology</td>\n",
       "      <td>...</td>\n",
       "      <td>Pennsylvania</td>\n",
       "      <td>Philadelphia</td>\n",
       "      <td>19112</td>\n",
       "      <td>2012-09-30</td>\n",
       "      <td>2012-10-02</td>\n",
       "      <td>165.2000</td>\n",
       "      <td>96</td>\n",
       "      <td>1337.67</td>\n",
       "      <td>13638</td>\n",
       "      <td>Returned</td>\n",
       "    </tr>\n",
       "    <tr>\n",
       "      <th>97</th>\n",
       "      <td>6625</td>\n",
       "      <td>High</td>\n",
       "      <td>0.06</td>\n",
       "      <td>128.24</td>\n",
       "      <td>12.65</td>\n",
       "      <td>3251</td>\n",
       "      <td>Peter Brooks</td>\n",
       "      <td>Regular Air</td>\n",
       "      <td>Small Business</td>\n",
       "      <td>Furniture</td>\n",
       "      <td>...</td>\n",
       "      <td>New York</td>\n",
       "      <td>New York City</td>\n",
       "      <td>10112</td>\n",
       "      <td>2012-09-11</td>\n",
       "      <td>2012-09-13</td>\n",
       "      <td>1844.9600</td>\n",
       "      <td>92</td>\n",
       "      <td>12002.16</td>\n",
       "      <td>47109</td>\n",
       "      <td>Returned</td>\n",
       "    </tr>\n",
       "  </tbody>\n",
       "</table>\n",
       "<p>98 rows × 25 columns</p>\n",
       "</div>"
      ],
      "text/plain": [
       "    Row ID Order Priority  Discount  Unit Price  Shipping Cost  Customer ID  \\\n",
       "0     1359            Low      0.05        5.85           2.27           21   \n",
       "1     1950         Medium      0.01        4.91           0.50          117   \n",
       "2     1951         Medium      0.09        4.00           1.30          117   \n",
       "3     5055           High      0.02        3.28           5.00          117   \n",
       "4     5573            Low      0.02       11.97           5.81          272   \n",
       "..     ...            ...       ...         ...            ...          ...   \n",
       "93     986  Not Specified      0.06       37.94           5.08         3075   \n",
       "94     987  Not Specified      0.10       55.29           5.08         3075   \n",
       "95    6041         Medium      0.05        4.28           6.18         3075   \n",
       "96    1910           High      0.05       14.48           1.99         3079   \n",
       "97    6625           High      0.06      128.24          12.65         3251   \n",
       "\n",
       "           Customer Name    Ship Mode Customer Segment Product Category  ...  \\\n",
       "0   Tony Wilkins Winters  Regular Air   Small Business  Office Supplies  ...   \n",
       "1            Linda Weiss  Regular Air      Home Office  Office Supplies  ...   \n",
       "2            Linda Weiss  Express Air      Home Office  Office Supplies  ...   \n",
       "3            Linda Weiss  Regular Air      Home Office  Office Supplies  ...   \n",
       "4          Eleanor Swain  Regular Air   Small Business  Office Supplies  ...   \n",
       "..                   ...          ...              ...              ...  ...   \n",
       "93         Gordon Brandt  Regular Air        Corporate  Office Supplies  ...   \n",
       "94         Gordon Brandt  Regular Air        Corporate  Office Supplies  ...   \n",
       "95         Gordon Brandt  Express Air        Corporate  Office Supplies  ...   \n",
       "96         Andrew Levine  Regular Air         Consumer       Technology  ...   \n",
       "97          Peter Brooks  Regular Air   Small Business        Furniture  ...   \n",
       "\n",
       "   State or Province           City Postal Code  Order Date  Ship Date  \\\n",
       "0           New York  New York City       10012  2011-04-20 2011-04-24   \n",
       "1         Washington        Seattle       98103  2010-04-04 2010-04-06   \n",
       "2         Washington        Seattle       98103  2010-04-04 2010-04-06   \n",
       "3         Washington        Seattle       98103  2013-08-16 2013-08-18   \n",
       "4     North Carolina      Charlotte       28204  2013-08-12 2013-08-12   \n",
       "..               ...            ...         ...         ...        ...   \n",
       "93        California    Los Angeles       90061  2013-01-04 2013-01-06   \n",
       "94        California    Los Angeles       90061  2013-01-04 2013-01-05   \n",
       "95        California    Los Angeles       90061  2013-06-25 2013-06-27   \n",
       "96      Pennsylvania   Philadelphia       19112  2012-09-30 2012-10-02   \n",
       "97          New York  New York City       10112  2012-09-11 2012-09-13   \n",
       "\n",
       "       Profit Quantity ordered new     Sales Order ID    Status  \n",
       "0     -6.8200                    9     54.79     9895  Returned  \n",
       "1    112.0600                   47    228.46    13959  Returned  \n",
       "2     16.7900                   19     77.61    13959  Returned  \n",
       "3    -89.0600                   52    190.52    36038  Returned  \n",
       "4    -81.9413                   76    912.06    39490  Returned  \n",
       "..        ...                  ...       ...      ...       ...  \n",
       "93   -33.9680                    3    113.14     7107  Returned  \n",
       "94   163.1200                   35   1886.52     7107  Returned  \n",
       "95   -22.5600                   12     73.71    42823  Returned  \n",
       "96   165.2000                   96   1337.67    13638  Returned  \n",
       "97  1844.9600                   92  12002.16    47109  Returned  \n",
       "\n",
       "[98 rows x 25 columns]"
      ]
     },
     "execution_count": 19,
     "metadata": {},
     "output_type": "execute_result"
    }
   ],
   "source": [
    "orders.merge(returns)"
   ]
  },
  {
   "cell_type": "markdown",
   "id": "353333af",
   "metadata": {},
   "source": [
    "###  5 ) Try to find out how many unique customer that we have "
   ]
  },
  {
   "cell_type": "code",
   "execution_count": 20,
   "id": "a0b28066",
   "metadata": {},
   "outputs": [
    {
     "data": {
      "text/plain": [
       "Index(['Row ID', 'Order Priority', 'Discount', 'Unit Price', 'Shipping Cost',\n",
       "       'Customer ID', 'Customer Name', 'Ship Mode', 'Customer Segment',\n",
       "       'Product Category', 'Product Sub-Category', 'Product Container',\n",
       "       'Product Name', 'Product Base Margin', 'Region', 'State or Province',\n",
       "       'City', 'Postal Code', 'Order Date', 'Ship Date', 'Profit',\n",
       "       'Quantity ordered new', 'Sales', 'Order ID'],\n",
       "      dtype='object')"
      ]
     },
     "execution_count": 20,
     "metadata": {},
     "output_type": "execute_result"
    }
   ],
   "source": [
    "orders.columns"
   ]
  },
  {
   "cell_type": "code",
   "execution_count": 26,
   "id": "7b76d13b",
   "metadata": {},
   "outputs": [
    {
     "data": {
      "text/plain": [
       "2703"
      ]
     },
     "execution_count": 26,
     "metadata": {},
     "output_type": "execute_result"
    }
   ],
   "source": [
    "orders['Customer ID'].unique().size"
   ]
  },
  {
   "cell_type": "markdown",
   "id": "322d31e3",
   "metadata": {},
   "source": [
    "### 6 ) Try to find out in how many regions we are selling a product and who is a manager for a respective region "
   ]
  },
  {
   "cell_type": "code",
   "execution_count": 33,
   "id": "25ce760c",
   "metadata": {},
   "outputs": [
    {
     "data": {
      "text/html": [
       "<div>\n",
       "<style scoped>\n",
       "    .dataframe tbody tr th:only-of-type {\n",
       "        vertical-align: middle;\n",
       "    }\n",
       "\n",
       "    .dataframe tbody tr th {\n",
       "        vertical-align: top;\n",
       "    }\n",
       "\n",
       "    .dataframe thead th {\n",
       "        text-align: right;\n",
       "    }\n",
       "</style>\n",
       "<table border=\"1\" class=\"dataframe\">\n",
       "  <thead>\n",
       "    <tr style=\"text-align: right;\">\n",
       "      <th></th>\n",
       "      <th>Region</th>\n",
       "      <th>Manager</th>\n",
       "    </tr>\n",
       "  </thead>\n",
       "  <tbody>\n",
       "    <tr>\n",
       "      <th>0</th>\n",
       "      <td>Central</td>\n",
       "      <td>Chris</td>\n",
       "    </tr>\n",
       "    <tr>\n",
       "      <th>1</th>\n",
       "      <td>West</td>\n",
       "      <td>William</td>\n",
       "    </tr>\n",
       "    <tr>\n",
       "      <th>2</th>\n",
       "      <td>East</td>\n",
       "      <td>Erin</td>\n",
       "    </tr>\n",
       "    <tr>\n",
       "      <th>3</th>\n",
       "      <td>South</td>\n",
       "      <td>Sam</td>\n",
       "    </tr>\n",
       "  </tbody>\n",
       "</table>\n",
       "</div>"
      ],
      "text/plain": [
       "    Region  Manager\n",
       "0  Central    Chris\n",
       "1     West  William\n",
       "2     East     Erin\n",
       "3    South      Sam"
      ]
     },
     "execution_count": 33,
     "metadata": {},
     "output_type": "execute_result"
    }
   ],
   "source": [
    "pd.DataFrame(orders['Region'].unique(), columns=['Region']).merge(users)"
   ]
  },
  {
   "cell_type": "markdown",
   "id": "60a32891",
   "metadata": {},
   "source": [
    "### 7 ) Find out how many different shipement mode that we have and what is a percentage usablity of all the shipment mode with respect to dataset."
   ]
  },
  {
   "cell_type": "code",
   "execution_count": 36,
   "id": "38fd9e94",
   "metadata": {},
   "outputs": [
    {
     "data": {
      "text/plain": [
       "Regular Air       74.644600\n",
       "Delivery Truck    13.611288\n",
       "Express Air       11.744112\n",
       "Name: Ship Mode, dtype: float64"
      ]
     },
     "execution_count": 36,
     "metadata": {},
     "output_type": "execute_result"
    }
   ],
   "source": [
    "(orders['Ship Mode'].value_counts()/orders['Ship Mode'].count())*100"
   ]
  },
  {
   "cell_type": "markdown",
   "id": "717024d6",
   "metadata": {},
   "source": [
    "### 8 ) Create a new coulmn and try to find our a diffrence between order date and shipment date "
   ]
  },
  {
   "cell_type": "code",
   "execution_count": 38,
   "id": "50c6514a",
   "metadata": {},
   "outputs": [],
   "source": [
    "orders['Turn-Around-Time'] = orders['Ship Date']-orders['Order Date']"
   ]
  },
  {
   "cell_type": "code",
   "execution_count": 39,
   "id": "afe1d1a2",
   "metadata": {},
   "outputs": [
    {
     "data": {
      "text/plain": [
       "0      2 days\n",
       "1      1 days\n",
       "2      1 days\n",
       "3      1 days\n",
       "4      0 days\n",
       "        ...  \n",
       "9421   1 days\n",
       "9422   0 days\n",
       "9423   2 days\n",
       "9424   3 days\n",
       "9425   2 days\n",
       "Name: Turn-Around-Time, Length: 9426, dtype: timedelta64[ns]"
      ]
     },
     "execution_count": 39,
     "metadata": {},
     "output_type": "execute_result"
    }
   ],
   "source": [
    "orders['Turn-Around-Time']"
   ]
  },
  {
   "cell_type": "markdown",
   "id": "b4433f82",
   "metadata": {},
   "source": [
    "### 9 ) Base on question number 8 find out for which order id we have shipment duration more than 10 days  "
   ]
  },
  {
   "cell_type": "code",
   "execution_count": 44,
   "id": "6f89e8e8",
   "metadata": {},
   "outputs": [
    {
     "data": {
      "text/plain": [
       "643     87215\n",
       "1548    86318\n",
       "1549    86318\n",
       "1678    87957\n",
       "1679    87957\n",
       "1680    87957\n",
       "1697    19556\n",
       "1698    19556\n",
       "1699    19556\n",
       "2515    86177\n",
       "5548    88223\n",
       "5673    88352\n",
       "5859    87572\n",
       "5881    91294\n",
       "8607    86434\n",
       "8609    86436\n",
       "8610    86436\n",
       "8973    87300\n",
       "8982    19841\n",
       "8983    19841\n",
       "8993    19841\n",
       "8996    87300\n",
       "8997    87300\n",
       "Name: Order ID, dtype: int64"
      ]
     },
     "execution_count": 44,
     "metadata": {},
     "output_type": "execute_result"
    }
   ],
   "source": [
    "orders[orders['Turn-Around-Time']>datetime.timedelta(10)]['Order ID']"
   ]
  },
  {
   "cell_type": "markdown",
   "id": "da5bd51a",
   "metadata": {},
   "source": [
    "### 10 ) Try to find out a list of a returned order which sihpment duration was more then 15 days and find out that region manager as well"
   ]
  },
  {
   "cell_type": "code",
   "execution_count": 47,
   "id": "3672cad0",
   "metadata": {},
   "outputs": [],
   "source": [
    "return_orders = orders.merge(returns)"
   ]
  },
  {
   "cell_type": "code",
   "execution_count": 51,
   "id": "ee6017ad",
   "metadata": {},
   "outputs": [
    {
     "data": {
      "text/html": [
       "<div>\n",
       "<style scoped>\n",
       "    .dataframe tbody tr th:only-of-type {\n",
       "        vertical-align: middle;\n",
       "    }\n",
       "\n",
       "    .dataframe tbody tr th {\n",
       "        vertical-align: top;\n",
       "    }\n",
       "\n",
       "    .dataframe thead th {\n",
       "        text-align: right;\n",
       "    }\n",
       "</style>\n",
       "<table border=\"1\" class=\"dataframe\">\n",
       "  <thead>\n",
       "    <tr style=\"text-align: right;\">\n",
       "      <th></th>\n",
       "      <th>Row ID</th>\n",
       "      <th>Order Priority</th>\n",
       "      <th>Discount</th>\n",
       "      <th>Unit Price</th>\n",
       "      <th>Shipping Cost</th>\n",
       "      <th>Customer ID</th>\n",
       "      <th>Customer Name</th>\n",
       "      <th>Ship Mode</th>\n",
       "      <th>Customer Segment</th>\n",
       "      <th>Product Category</th>\n",
       "      <th>...</th>\n",
       "      <th>City</th>\n",
       "      <th>Postal Code</th>\n",
       "      <th>Order Date</th>\n",
       "      <th>Ship Date</th>\n",
       "      <th>Profit</th>\n",
       "      <th>Quantity ordered new</th>\n",
       "      <th>Sales</th>\n",
       "      <th>Order ID</th>\n",
       "      <th>Turn-Around-Time</th>\n",
       "      <th>Status</th>\n",
       "    </tr>\n",
       "  </thead>\n",
       "  <tbody>\n",
       "  </tbody>\n",
       "</table>\n",
       "<p>0 rows × 26 columns</p>\n",
       "</div>"
      ],
      "text/plain": [
       "Empty DataFrame\n",
       "Columns: [Row ID, Order Priority, Discount, Unit Price, Shipping Cost, Customer ID, Customer Name, Ship Mode, Customer Segment, Product Category, Product Sub-Category, Product Container, Product Name, Product Base Margin, Region, State or Province, City, Postal Code, Order Date, Ship Date, Profit, Quantity ordered new, Sales, Order ID, Turn-Around-Time, Status]\n",
       "Index: []\n",
       "\n",
       "[0 rows x 26 columns]"
      ]
     },
     "execution_count": 51,
     "metadata": {},
     "output_type": "execute_result"
    }
   ],
   "source": [
    "return_orders[return_orders['Turn-Around-Time']>datetime.timedelta(15)]"
   ]
  },
  {
   "cell_type": "markdown",
   "id": "a706b43e",
   "metadata": {},
   "source": [
    "###  11 ) Group by region and find out which region is more profitable "
   ]
  },
  {
   "cell_type": "code",
   "execution_count": 55,
   "id": "f5577186",
   "metadata": {},
   "outputs": [
    {
     "data": {
      "text/plain": [
       "'Central'"
      ]
     },
     "execution_count": 55,
     "metadata": {},
     "output_type": "execute_result"
    }
   ],
   "source": [
    "orders.groupby('Region')['Profit'].sum().index[0]"
   ]
  },
  {
   "cell_type": "markdown",
   "id": "9376d451",
   "metadata": {},
   "source": [
    "### 12 ) Try to find out overall in which Country/State we are giving more discounts.  "
   ]
  },
  {
   "cell_type": "code",
   "execution_count": 61,
   "id": "f60b5e46",
   "metadata": {},
   "outputs": [
    {
     "data": {
      "text/plain": [
       "'California'"
      ]
     },
     "execution_count": 61,
     "metadata": {},
     "output_type": "execute_result"
    }
   ],
   "source": [
    "orders.groupby('State or Province')['Discount'].sum().sort_values().index[-1]"
   ]
  },
  {
   "cell_type": "markdown",
   "id": "9a966bac",
   "metadata": {},
   "source": [
    "### 13 ) Give me a list of unique postal code "
   ]
  },
  {
   "cell_type": "code",
   "execution_count": 65,
   "id": "2a4e39a3",
   "metadata": {},
   "outputs": [
    {
     "data": {
      "text/plain": [
       "0       60101\n",
       "1       98221\n",
       "2       91776\n",
       "3       95123\n",
       "4        2724\n",
       "        ...  \n",
       "1692     6820\n",
       "1693    60014\n",
       "1694    61832\n",
       "1695    62521\n",
       "1696    26554\n",
       "Length: 1697, dtype: int64"
      ]
     },
     "execution_count": 65,
     "metadata": {},
     "output_type": "execute_result"
    }
   ],
   "source": [
    "pd.Series(orders['Postal Code'].unique())"
   ]
  },
  {
   "cell_type": "markdown",
   "id": "081a55e3",
   "metadata": {},
   "source": [
    "### 14 ) Which customer segement is more profitalble find it out"
   ]
  },
  {
   "cell_type": "code",
   "execution_count": 68,
   "id": "128032d2",
   "metadata": {},
   "outputs": [
    {
     "data": {
      "text/plain": [
       "'Corporate'"
      ]
     },
     "execution_count": 68,
     "metadata": {},
     "output_type": "execute_result"
    }
   ],
   "source": [
    "orders.groupby('Customer Segment')['Profit'].sum().sort_values().index[-1]"
   ]
  },
  {
   "cell_type": "markdown",
   "id": "8c2d6999",
   "metadata": {},
   "source": [
    "### 15 ) Try to find out the 10th most loss making product catagory / sub category"
   ]
  },
  {
   "cell_type": "code",
   "execution_count": 75,
   "id": "51da64c7",
   "metadata": {},
   "outputs": [
    {
     "data": {
      "text/plain": [
       "'Computer Peripherals'"
      ]
     },
     "execution_count": 75,
     "metadata": {},
     "output_type": "execute_result"
    }
   ],
   "source": [
    "#There are only 3 product categories\n",
    "orders.groupby('Product Sub-Category')['Profit'].sum().sort_values().index[9]"
   ]
  },
  {
   "cell_type": "markdown",
   "id": "619642dd",
   "metadata": {},
   "source": [
    "### 16 )  Try to find out 10 top  product with Highest margins "
   ]
  },
  {
   "cell_type": "code",
   "execution_count": 83,
   "id": "62988639",
   "metadata": {},
   "outputs": [
    {
     "data": {
      "text/plain": [
       "2431              GBC DocuBind 200 Manual Binding Machine\n",
       "8248       Peel & Seel® Recycled Catalog Envelopes, Brown\n",
       "1515       Peel & Seel® Recycled Catalog Envelopes, Brown\n",
       "5050       Peel & Seel® Recycled Catalog Envelopes, Brown\n",
       "413                                           Accessory31\n",
       "5034                          Prang Dustless Chalk Sticks\n",
       "8308         Staples Brown Kraft Recycled Clasp Envelopes\n",
       "8311     Storex DuraTech Recycled Plastic Frosted Binders\n",
       "8318                                          Accessory31\n",
       "1553    Adams Telephone Message Book w/Frequently-Call...\n",
       "Name: Product Name, dtype: object"
      ]
     },
     "execution_count": 83,
     "metadata": {},
     "output_type": "execute_result"
    }
   ],
   "source": [
    "orders.sort_values(by='Product Base Margin')['Product Name'][0:10]"
   ]
  },
  {
   "cell_type": "code",
   "execution_count": null,
   "id": "3acd8813",
   "metadata": {},
   "outputs": [],
   "source": []
  }
 ],
 "metadata": {
  "kernelspec": {
   "display_name": "Python 3 (ipykernel)",
   "language": "python",
   "name": "python3"
  },
  "language_info": {
   "codemirror_mode": {
    "name": "ipython",
    "version": 3
   },
   "file_extension": ".py",
   "mimetype": "text/x-python",
   "name": "python",
   "nbconvert_exporter": "python",
   "pygments_lexer": "ipython3",
   "version": "3.9.6"
  }
 },
 "nbformat": 4,
 "nbformat_minor": 5
}
